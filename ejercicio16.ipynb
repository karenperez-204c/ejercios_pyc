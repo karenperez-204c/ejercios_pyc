{
 "cells": [
  {
   "cell_type": "markdown",
   "metadata": {},
   "source": [
    "# Ejercicio 16\n",
    "En un grupo de 25 alumnos hay 13 chicas y 12 chicos. Se desean formar equipos de trabajo para realizar una investigación\n",
    "\n",
    "**a) ¿Cuántos equipos de cinco personas pueden formarse?**"
   ]
  },
  {
   "cell_type": "markdown",
   "metadata": {},
   "source": [
    "\n",
    "Para encontrar cuántos equipos de 5 personas pueden formarse a partir de un grupo de 25 alumnos, utilizamos la fórmula de combinaciones. Las combinaciones se usan cuando queremos seleccionar un grupo de elementos sin importar el orden en que se seleccionen.\n",
    "\n",
    "\n",
    "La formula de las combinaciones es:\n",
    "$$\\binom{n}{k} = \\frac{n!}{k!(n-k)!}$$\n",
    "\n",
    "Donde el total de elementos es 25 y el número de elementos que queremos seleccionar es 5\n",
    "\n",
    "$$\\binom{25}{5} = \\frac{25!}{5!(25-5)!}$$\n",
    "$$\\binom{25}{5} = \\frac{25!}{5! * 20!} =  53130$$\n",
    "\n",
    "Por lo tanto, se pueden formar *53,130* combinaciones diferentes de equipos de 5 personas"
   ]
  },
  {
   "cell_type": "code",
   "execution_count": 5,
   "metadata": {},
   "outputs": [
    {
     "name": "stdout",
     "output_type": "stream",
     "text": [
      "Se pueden formar equipos de 5 de 53130 formas \n"
     ]
    }
   ],
   "source": [
    "import math\n",
    "\n",
    "n , k= 25 , 5\n",
    "\n",
    "equipos = math.comb(n, k)\n",
    "print(f\"Se pueden formar equipos de {k} de {equipos} formas \")\n",
    "\n"
   ]
  },
  {
   "cell_type": "markdown",
   "metadata": {},
   "source": [
    "**b) ¿Cuántos equipos pueden formarse si debe haber una chica?**"
   ]
  },
  {
   "cell_type": "markdown",
   "metadata": {},
   "source": [
    "Para calcular cuantos equipos pueden formarse si debe de haber una chica, primero calculamos la cantidad de formas en que se puede seleccionar equipos de esta forma.\n",
    "\n",
    "1. Utilizamos la fórmula de combinaciones para elegir 1 chica de entre las 13 disponibles\n",
    "\n",
    "$$\\binom{13}{1} = \\frac{13!}{1!(13-1)!} =  \\frac{13!}{1! * 12!}  = 13$$\n",
    "\n",
    "   *Esto nos dice que hay 13 maneras de elegir una chica*\n",
    "\n",
    "\n",
    "2. Nuevamente, utilizamos la fórmula de combinaciones para elegir 4 chicos de entre los 12 disponibles\n",
    "\n",
    "$$\\binom{12}{4} = \\frac{12!}{4!(12-4)!} =  \\frac{12!}{4! * 8!}  = 495$$\n",
    "\n",
    "*Esto nos dice que hay 495 maneras de elegir 4 chicos*\n",
    "\n",
    "3. Ahora ya obtenida cada combinación de 1 chica y 4 chicos formará un equipo. Multiplicamos las combinaciones obtenidas\n",
    "\n",
    "$$\n",
    "P(A) = \\ {13 * 495} = 6435\n",
    "$$\n",
    "\n",
    "Por lo tanto, se pueden formar *6,435* combinaciones diferentes de equipos habiendo una chica"
   ]
  },
  {
   "cell_type": "code",
   "execution_count": 6,
   "metadata": {},
   "outputs": [
    {
     "name": "stdout",
     "output_type": "stream",
     "text": [
      "Se pueden formar 6435 combinaciones con 1 chica en el equipo\n"
     ]
    }
   ],
   "source": [
    "chicos, chicas = 13, 12\n",
    "\n",
    "co4 = math.comb(12, 4)\n",
    "ca1 = math.comb(13, 1)\n",
    "una_chica = ca1 * co4\n",
    "print(f\"Se pueden formar {una_chica} combinaciones con 1 chica en el equipo\")\n"
   ]
  },
  {
   "cell_type": "markdown",
   "metadata": {},
   "source": [
    "**c) ¿Cuántos equipos pueden formarse si debe haber dos chicas?**"
   ]
  },
  {
   "cell_type": "markdown",
   "metadata": {},
   "source": [
    "\n",
    "Ahora para calcular cuantos equipos pueden formarse si debe de haber dos chicas, primero calculamos la cantidad de formas en que se puede seleccionar equipos de cinco personas con al menos una chica. \n",
    "\n",
    "1. Utilizamos la fórmula de combinaciones para elegir 2 chicas de entre las 13 disponibles\n",
    "\n",
    "$$\\binom{13}{2} = \\frac{13!}{2!(13-2)!} =  \\frac{13!}{2! * 11!}  = 78$$\n",
    "\n",
    "*Esto nos dice que hay 78 maneras de elegir 2 chicas*\n",
    "\n",
    "\n",
    "2. Seleccionar 3 chicos, entre las 12 chicas disponibles \n",
    "\n",
    "$$\\binom{12}{3} = \\frac{12!}{3!(12-3)!} =  \\frac{12!}{3! * 9!}  = 220$$\n",
    "\n",
    "*Esto nos dice que hay 220 maneras de elegir 3 chicos*\n",
    "\n",
    "3.  Ahora ya obtenida cada combinación de 2 chica y 3 chicos formará un equipo. Multiplicamos las combinaciones obtenidas\n",
    "\n",
    "\n",
    "$$\n",
    "P(A) = \\ {78 * 220} = 17, 160\n",
    "$$\n",
    "\n",
    "Por lo tanto, se pueden formar *17,160* combinaciones diferentes de equipos con dos chicas "
   ]
  },
  {
   "cell_type": "code",
   "execution_count": 7,
   "metadata": {},
   "outputs": [
    {
     "name": "stdout",
     "output_type": "stream",
     "text": [
      "Se pueden formar 17160 combinaciones diferentes de equipos con dos chicas\n"
     ]
    }
   ],
   "source": [
    "b, g = 3, 2\n",
    "c2g = math.comb(chicos, g) \n",
    "c3b = math.comb(chicas, b)\n",
    "\n",
    "\n",
    "dos_chicas = c2g * c3b\n",
    "print(f\"Se pueden formar {dos_chicas} combinaciones diferentes de equipos con dos chicas\")"
   ]
  },
  {
   "cell_type": "markdown",
   "metadata": {},
   "source": [
    "**d) Determina las probabilidades correspondientes a los incisos anteriores**"
   ]
  },
  {
   "cell_type": "markdown",
   "metadata": {},
   "source": [
    "Para determinar las probabilidades, dividimos el número de casos favorables (las combinaciones que cumplen la condición) entre el número de casos totales (todas las posibles combinaciones de equipos de 5 personas)\n",
    "\n",
    "La formula es :\n",
    "$$  \\frac{Casos Favorables}{Casos Totales}  =   Probabilidad $$\n",
    "\n",
    "1. Caso 1: Probabilidad de formar un equipo con al menos una chica\n",
    "\n",
    "La probabilidad de que un equipo tenga al menos una chica se calcula dividiendo el número de equipos con al menos una chica entre el número total de equipos posibles\n",
    "\n",
    "$$  \\frac{6435}{53130}  =  0.121118 $$\n",
    "\n",
    "Por lo tanto hay aproximadamente un *12.1%* de probabilidad de formar un equipo con al menos una chica\n",
    "\n",
    "2. Caso 2: Probabilidad de formar un equipo con dos chicas\n",
    "\n",
    "La probabilidad de que un equipo tenga dos chicas se calcula dividiendo el número de equipos con dos chicas entre el número total de equipos posibles\n",
    "\n",
    "$$  \\frac{17160 }{53130} = 0.322981 $$\n",
    "\n",
    "Por lo tanto hay aproximadamente un 32.3% de probabilidad de formar un equipo con dos chicas."
   ]
  },
  {
   "cell_type": "code",
   "execution_count": 8,
   "metadata": {},
   "outputs": [
    {
     "name": "stdout",
     "output_type": "stream",
     "text": [
      "Caso 1: La probabilidad de que solo puede haber 1 chica en el equipo es del 12.11%\n",
      "Caso 2: La probabilidad de formar equipos con dos chicas es del 32.30%\n"
     ]
    }
   ],
   "source": [
    "p_una = una_chica / equipos\n",
    "p_dos = dos_chicas / equipos\n",
    "\n",
    "\n",
    "print(f\"Caso 1: La probabilidad de que solo puede haber 1 chica en el equipo es del {p_una *100:.2f}%\")\n",
    "print(f\"Caso 2: La probabilidad de formar equipos con dos chicas es del {p_dos* 100:.2f}%\")"
   ]
  }
 ],
 "metadata": {
  "kernelspec": {
   "display_name": "Python 3",
   "language": "python",
   "name": "python3"
  },
  "language_info": {
   "codemirror_mode": {
    "name": "ipython",
    "version": 3
   },
   "file_extension": ".py",
   "mimetype": "text/x-python",
   "name": "python",
   "nbconvert_exporter": "python",
   "pygments_lexer": "ipython3",
   "version": "3.12.4"
  }
 },
 "nbformat": 4,
 "nbformat_minor": 2
}

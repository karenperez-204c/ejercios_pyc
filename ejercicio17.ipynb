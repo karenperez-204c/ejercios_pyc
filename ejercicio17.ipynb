{
 "cells": [
  {
   "cell_type": "markdown",
   "metadata": {},
   "source": [
    "# Ejercicio 17\n",
    " Se tiene una caja con 24 latas y se sabe que dos están contaminadas. Se van a seleccionar tres latas al azar para someterlas a una prueba de control de calidad, es decir, para \n",
    "medir los estándares de calidad de la empresa\n",
    "\n",
    "**a) ¿Cuántas combinaciones de tres latas pueden hacerse?**\n",
    "\n"
   ]
  },
  {
   "cell_type": "markdown",
   "metadata": {},
   "source": [
    "Como se nos pregunta la cantidad de combinaciones posibles, debemos usar la fórmula de combinaciones. Dado que tenemos un total de 24 latas y queremos seleccionar 3 para una prueba, la fórmula quedaria\n",
    "$$\\binom{n}{k} = \\frac{n!}{k!(n-k)!}$$\n",
    "\n",
    "Donde el total de elementos es 24 y el número de elementos que queremos seleccionar es 3\n",
    "\n",
    "$$\\binom{24}{3} = \\frac{24!}{3!(24-3)!}$$\n",
    "$$\\binom{24}{3} = \\frac{24!}{3! * 21!} =  2024$$\n",
    "\n",
    "Por lo tanto, se pueden formar *2024* combinaciones para la prueba "
   ]
  },
  {
   "cell_type": "code",
   "execution_count": 1,
   "metadata": {},
   "outputs": [
    {
     "name": "stdout",
     "output_type": "stream",
     "text": [
      "Se forman 2024 combinaciones diferentes de 3 latas de una caja de 24 cajas \n"
     ]
    }
   ],
   "source": [
    "import math\n",
    "\n",
    "n , k = 24, 3\n",
    "co = math.comb(n, k)\n",
    "print(f\"Se forman {co} combinaciones diferentes de {k} latas de una caja de {n} cajas \")"
   ]
  },
  {
   "cell_type": "markdown",
   "metadata": {},
   "source": [
    "**b) ¿Cuál es la probabilidad de que se seleccione una lata contaminada para la prueba?**"
   ]
  },
  {
   "cell_type": "markdown",
   "metadata": {},
   "source": [
    "Para encontrar esta probabilidad, primero calculamos la cantidad de formas en las que se puede seleccionar exactamente una lata contaminada y dos latas no contaminadas\n",
    "\n",
    "1. Utilizamos la fórmula de combinaciones para elegir 1 lata contaminada de las 2 disponibles\n",
    "\n",
    "$$\\binom{2}{1} = \\frac{2!}{1!(2-1)!} =  \\frac{2}{1}  = 2$$\n",
    "\n",
    "2. Ahora hacemos lo mismo para el caso de 2 latas no contaminadas de las 22 disponibles\n",
    "\n",
    "$$\\binom{22}{2} = \\frac{22!}{2!(22-2)!} =  \\frac{22!}{2!20!}  = 231$$\n",
    "\n",
    "3. Obtenido los valores de las combinaciones debemos de multiplicarlo para obtener los casos favorables:\n",
    "\n",
    "$$\\binom{2}{1} * \\binom{22}{2}  =  2 * 231 = 462$$\n",
    "\n",
    "4. Utilizando la formula de la probabilidad \n",
    "$$  \\frac{Casos Favorables}{Casos Totales}  =   Probabilidad $$\n",
    "\n",
    "Ahora lo que hacemos es sustituir los valores donde los casos favorable seran cuando solo se tenga 1 lata contaminada y los casos totales serian las combinaciones para la prueba\n",
    "\n",
    "$$  \\frac{462 }{2024}  =   0.2283 $$\n",
    "\n",
    "Por lo tanto, la probabilidad de que se seleccione una lata contaminada para la prueba es de *22.83%*"
   ]
  },
  {
   "cell_type": "code",
   "execution_count": 2,
   "metadata": {},
   "outputs": [
    {
     "name": "stdout",
     "output_type": "stream",
     "text": [
      "La probabilidad de que se seleccione 1 lata contaminada para la prueba es de 22.83%\n"
     ]
    }
   ],
   "source": [
    "c1= math.comb(2, 1)\n",
    "c2= math.comb(22, 2)\n",
    "\n",
    "p1 = c1 * c2 / co\n",
    "print(f\"La probabilidad de que se seleccione 1 lata contaminada para la prueba es de {p1* 100:.2f}%\")"
   ]
  },
  {
   "cell_type": "markdown",
   "metadata": {},
   "source": [
    "**c) ¿Cuál es la probabilidad de que se seleccione al menos una lata contaminada para la prueba?**"
   ]
  },
  {
   "cell_type": "markdown",
   "metadata": {},
   "source": [
    "Para encontar la probabilidad debemos comprender que al decir \"al menos 2\" nos referimos a que se puede tanto 1 lata o 2 contaminadas, \n",
    "Para calcular esto, sumamos las probabilidades de seleccionar 1 o 2 latas contaminadas. Como anteriormente ya se calculo para el caso 1, ahora solo lo hacemos para el caso 2 \n",
    "\n",
    "1. Calculamos cuántas maneras hay de seleccionar 1 lata contaminada de las 2 disponibles\n",
    "\n",
    "$$\\binom{2}{2} = \\frac{2!}{2!(2-2)!} =  \\frac{2!}{2!0!}  = 1$$\n",
    "\n",
    "2. Ahora cuántas maneras hay de seleccionar 1 lata contaminada de las 22 disponibles\n",
    "\n",
    "$$\\binom{22}{1} = \\frac{22!}{1!(22-1)!} =  \\frac{22}{1}  = 22$$\n",
    "\n",
    "Obtenido los valores de las combinaciones debemos de multiplicarlo para obtener los casos favorables:\n",
    "\n",
    "3. Obtenido los valores de las combinaciones debemos de multiplicarlo para obtener los casos favorables:\n",
    "\n",
    "$$\\binom{2}{2} * \\binom{22}{1}  =  1 * 22 = 22$$\n",
    "\n",
    "4. Utilizando la formula de la probabilidad \n",
    "$$  \\frac{Casos Favorables}{Casos Totales}  =   Probabilidad $$\n",
    "\n",
    "Ahora lo que hacemos es sustituir los valores donde los casos favorable seran cuando solo se tenga 2 latas contaminadas y los casos totales serian las combinaciones para la prueba\n",
    "\n",
    "$$  \\frac{484 }{2024}  =   0.2391 $$\n",
    "\n",
    "\n",
    "Por lo tanto, la probabilidad de que se seleccione al menos una lata contaminada para la prueba *23.91 %*\n",
    "\n"
   ]
  },
  {
   "cell_type": "code",
   "execution_count": 3,
   "metadata": {},
   "outputs": [
    {
     "name": "stdout",
     "output_type": "stream",
     "text": [
      "La probabilidad de que se seleccione al menos una lata contaminada para la prueba 23.91%\n"
     ]
    }
   ],
   "source": [
    "c2 = (math.comb(2, 2))\n",
    "c1 = (math.comb(22, 1))\n",
    "\n",
    "p2 = (1 * 22 ) / co\n",
    "pt = p1 + p2\n",
    "print(f\"La probabilidad de que se seleccione al menos una lata contaminada para la prueba {pt* 100:.2f}%\")"
   ]
  },
  {
   "cell_type": "markdown",
   "metadata": {},
   "source": [
    "**d)¿Y la probabilidad de que no se elijan latas contaminadas para la prueba?** "
   ]
  },
  {
   "cell_type": "markdown",
   "metadata": {},
   "source": [
    "Ahora para sacar la probabilidad de que no se elijan latas contaminadas, como ya sacamos la probabilidad de que se elijan tanto 1 como 2, solo es necesario restar a 1 la probabilidad \n",
    "\n",
    "Por lo tanto :\n",
    "$$ 1 - 0.239130 =  0.76087 $$\n",
    "\n",
    "Por lo tanto, la probabilidad de que no se elijan latas contaminadas para la prueba es de *76.09%*\n"
   ]
  },
  {
   "cell_type": "code",
   "execution_count": 4,
   "metadata": {},
   "outputs": [
    {
     "name": "stdout",
     "output_type": "stream",
     "text": [
      "La probabilidad de que no se elijan latas contaminadas para la prueba  76.09%\n"
     ]
    }
   ],
   "source": [
    "pn = 1 - pt\n",
    "print(f\"La probabilidad de que no se elijan latas contaminadas para la prueba  {pn * 100:.2f}%\")"
   ]
  }
 ],
 "metadata": {
  "kernelspec": {
   "display_name": "Python 3",
   "language": "python",
   "name": "python3"
  },
  "language_info": {
   "codemirror_mode": {
    "name": "ipython",
    "version": 3
   },
   "file_extension": ".py",
   "mimetype": "text/x-python",
   "name": "python",
   "nbconvert_exporter": "python",
   "pygments_lexer": "ipython3",
   "version": "3.12.4"
  }
 },
 "nbformat": 4,
 "nbformat_minor": 2
}
